{
 "cells": [
  {
   "cell_type": "code",
   "execution_count": 82,
   "metadata": {
    "collapsed": true
   },
   "outputs": [],
   "source": [
    "import csv\n",
    "import numpy as np\n",
    "import pandas as pd\n",
    "from sklearn.preprocessing import scale,robust_scale,minmax_scale,maxabs_scale\n",
    "import datetime\n",
    "from dateutil.parser import parse\n",
    "import matplotlib as mpl\n",
    "import matplotlib.pylab as plt\n",
    "import seaborn as sns\n",
    "from scipy import stats\n"
   ]
  },
  {
   "cell_type": "code",
   "execution_count": 83,
   "metadata": {
    "collapsed": true
   },
   "outputs": [],
   "source": [
    "data='./training.csv'\n",
    "train=pd.read_csv(data,header=0)\n",
    "train=pd.DataFrame(data=train)\n"
   ]
  },
  {
   "cell_type": "code",
   "execution_count": 84,
   "metadata": {
    "collapsed": true
   },
   "outputs": [],
   "source": [
    "train=train.drop([\"VehYear\"],axis=1)\n",
    "train=train.drop([\"RefId\"],axis=1)\n",
    "train=train.drop([\"Model\"],axis=1)\n",
    "train=train.drop([\"Trim\"],axis=1)\n",
    "train=train.drop([\"SubModel\"],axis=1)\n",
    "train=train.drop([\"WheelTypeID\"],axis=1)\n",
    "train=train.drop([\"PRIMEUNIT\"],axis=1)\n",
    "train=train.drop([\"AUCGUART\"],axis=1)\n",
    "train=train.drop([\"VNZIP1\"],axis=1)\n",
    "train=train.drop([\"PurchDate\"],axis=1)\n",
    "train=train.drop([\"BYRNO\"],axis=1)\n"
   ]
  },
  {
   "cell_type": "code",
   "execution_count": 85,
   "metadata": {
    "collapsed": true
   },
   "outputs": [],
   "source": [
    "train.loc[[15906, 24567, 24578, 70432, 70434, 70437, 70445, 70446, 70450],[\"Transmission\"]]=\"AUTO\"\n",
    "\n",
    "train.dropna(subset=[\"Color\"], inplace=True)\n",
    "train.dropna(subset=[\"MMRAcquisitionAuctionAveragePrice\"], inplace=True)\n",
    "train.dropna(subset=[\"MMRCurrentAuctionAveragePrice\"], inplace=True)\n",
    "train.dropna(subset=[\"Size\"], inplace=True)\n",
    "train.loc[train[\"WheelType\"].isnull(),\"WheelType\"]=\"Alloy\"\n",
    "train.loc[train['Transmission']==\"Manual\",\"Transmission\"]=\"MANUAL\"\n"
   ]
  },
  {
   "cell_type": "code",
   "execution_count": 86,
   "metadata": {
    "collapsed": true
   },
   "outputs": [],
   "source": [
    "train_x=train.ix[:,1:-1]\n",
    "train_y=train.ix[:,0]\n"
   ]
  },
  {
   "cell_type": "code",
   "execution_count": 87,
   "metadata": {
    "collapsed": true
   },
   "outputs": [],
   "source": [
    "train_x1=train_x.copy()\n",
    "train_y1=train_y.copy()"
   ]
  },
  {
   "cell_type": "code",
   "execution_count": 88,
   "metadata": {
    "collapsed": true
   },
   "outputs": [],
   "source": [
    "num_col=['MMRAcquisitionAuctionAveragePrice', 'MMRAcquisitionAuctionCleanPrice',\n",
    "                        'MMRAcquisitionRetailAveragePrice', 'MMRAcquisitonRetailCleanPrice',\n",
    "                        'MMRCurrentAuctionAveragePrice', 'MMRCurrentAuctionCleanPrice',\n",
    "                        'MMRCurrentRetailAveragePrice', 'MMRCurrentRetailCleanPrice']\n"
   ]
  },
  {
   "cell_type": "code",
   "execution_count": 89,
   "metadata": {
    "collapsed": false
   },
   "outputs": [],
   "source": [
    "train_x1[\"AuctionAve\"]=sum(train_x1[a] for a in num_col)/len(num_col)\n",
    "train_x1=train_x1.drop(num_col,axis=1)\n",
    "\n",
    "    "
   ]
  },
  {
   "cell_type": "code",
   "execution_count": 90,
   "metadata": {
    "collapsed": true
   },
   "outputs": [],
   "source": [
    "train_x1=pd.concat([train_y1,train_x1],axis=1)"
   ]
  },
  {
   "cell_type": "code",
   "execution_count": 91,
   "metadata": {
    "collapsed": false
   },
   "outputs": [],
   "source": [
    "from sklearn.cross_validation import train_test_split\n",
    "def split_train_test(df):\n",
    "    temp = df.drop(\"IsBadBuy\", axis=1)\n",
    "    train_X, test_X, train_Y, test_Y = train_test_split(temp, df.IsBadBuy,\n",
    "                                                        test_size=0.3, random_state=4531)\n",
    "    train_X = pd.DataFrame(train_X, columns=df.columns[1:])\n",
    "    test_X = pd.DataFrame(test_X, columns=df.columns[1:])\n",
    "    train_Y = pd.DataFrame(train_Y, columns=['IsBadBuy'])\n",
    "    test_Y = pd.DataFrame(test_Y, columns=['IsBadBuy'])\n",
    "\n",
    "\n",
    "    return train_X, test_X, train_Y, test_Y"
   ]
  },
  {
   "cell_type": "code",
   "execution_count": 92,
   "metadata": {
    "collapsed": false
   },
   "outputs": [],
   "source": [
    "train_x1, test_x1, train_y1, test_y1=split_train_test(train_x1)\n"
   ]
  },
  {
   "cell_type": "code",
   "execution_count": 93,
   "metadata": {
    "collapsed": false
   },
   "outputs": [],
   "source": [
    "train_x1[\"VehicleAge\"]=(train_x1[\"VehicleAge\"]-(train_x1[\"VehicleAge\"].mean()))/float(train_x1[\"VehicleAge\"].std())\n",
    "train_x1[\"VehOdo\"]=(train_x1[\"VehOdo\"]-(train_x1[\"VehOdo\"].mean()))/float(train_x1[\"VehOdo\"].std())\n",
    "train_x1[\"VehBCost\"]=(train_x1[\"VehBCost\"]-(train_x1[\"VehBCost\"].mean()))/float(train_x1[\"VehBCost\"].std())\n",
    "train_x1[\"AuctionAve\"]=(train_x1[\"AuctionAve\"]-(train_x1[\"AuctionAve\"].mean()))/float(train_x1[\"AuctionAve\"].std())\n",
    "    \n",
    "\n"
   ]
  },
  {
   "cell_type": "code",
   "execution_count": 94,
   "metadata": {
    "collapsed": true
   },
   "outputs": [],
   "source": [
    "test_x1[\"VehicleAge\"]=(test_x1[\"VehicleAge\"]-(test_x1[\"VehicleAge\"].mean()))/float(test_x1[\"VehicleAge\"].std())\n",
    "test_x1[\"VehOdo\"]=(test_x1[\"VehOdo\"]-(test_x1[\"VehOdo\"].mean()))/float(test_x1[\"VehOdo\"].std())\n",
    "test_x1[\"VehBCost\"]=(test_x1[\"VehBCost\"]-(test_x1[\"VehBCost\"].mean()))/float(test_x1[\"VehBCost\"].std())\n",
    "test_x1[\"AuctionAve\"]=(test_x1[\"AuctionAve\"]-(test_x1[\"AuctionAve\"].mean()))/float(test_x1[\"AuctionAve\"].std())"
   ]
  },
  {
   "cell_type": "code",
   "execution_count": 95,
   "metadata": {
    "collapsed": false
   },
   "outputs": [],
   "source": [
    "train_x1=pd.get_dummies(train_x1)\n"
   ]
  },
  {
   "cell_type": "code",
   "execution_count": 97,
   "metadata": {
    "collapsed": false,
    "scrolled": true
   },
   "outputs": [],
   "source": [
    "test_x1=pd.get_dummies(test_x1)"
   ]
  },
  {
   "cell_type": "code",
   "execution_count": 98,
   "metadata": {
    "collapsed": false
   },
   "outputs": [
    {
     "ename": "IndexError",
     "evalue": "too many indices for array",
     "output_type": "error",
     "traceback": [
      "\u001b[1;31m---------------------------------------------------------------------------\u001b[0m",
      "\u001b[1;31mIndexError\u001b[0m                                Traceback (most recent call last)",
      "\u001b[1;32m<ipython-input-98-aeb038eccf08>\u001b[0m in \u001b[0;36m<module>\u001b[1;34m()\u001b[0m\n\u001b[0;32m      6\u001b[0m \u001b[0mlogreg\u001b[0m\u001b[1;33m=\u001b[0m\u001b[0mLogisticRegression\u001b[0m\u001b[1;33m(\u001b[0m\u001b[1;33m)\u001b[0m\u001b[1;33m\u001b[0m\u001b[0m\n\u001b[0;32m      7\u001b[0m \u001b[1;33m\u001b[0m\u001b[0m\n\u001b[1;32m----> 8\u001b[1;33m \u001b[0mpredicted\u001b[0m \u001b[1;33m=\u001b[0m \u001b[0mcross_validation\u001b[0m\u001b[1;33m.\u001b[0m\u001b[0mcross_val_predict\u001b[0m\u001b[1;33m(\u001b[0m\u001b[0mlogreg\u001b[0m\u001b[1;33m,\u001b[0m \u001b[0mtrain_x1\u001b[0m\u001b[1;33m,\u001b[0m \u001b[0mtrain_y1\u001b[0m\u001b[1;33m,\u001b[0m \u001b[0mcv\u001b[0m\u001b[1;33m=\u001b[0m\u001b[1;36m10\u001b[0m\u001b[1;33m)\u001b[0m\u001b[1;33m\u001b[0m\u001b[0m\n\u001b[0m\u001b[0;32m      9\u001b[0m \u001b[0mscores\u001b[0m \u001b[1;33m=\u001b[0m \u001b[0mcross_validation\u001b[0m\u001b[1;33m.\u001b[0m\u001b[0mcross_val_score\u001b[0m\u001b[1;33m(\u001b[0m\u001b[0mlogreg\u001b[0m\u001b[1;33m,\u001b[0m \u001b[0mtrain_x1\u001b[0m\u001b[1;33m,\u001b[0m \u001b[0mtrain_y1\u001b[0m\u001b[1;33m,\u001b[0m \u001b[0mcv\u001b[0m\u001b[1;33m=\u001b[0m\u001b[1;36m10\u001b[0m\u001b[1;33m)\u001b[0m\u001b[1;33m\u001b[0m\u001b[0m\n\u001b[0;32m     10\u001b[0m \u001b[1;32mprint\u001b[0m \u001b[0mmetrics\u001b[0m\u001b[1;33m.\u001b[0m\u001b[0mclassification_report\u001b[0m\u001b[1;33m(\u001b[0m\u001b[0mtrain_y1\u001b[0m\u001b[1;33m,\u001b[0m \u001b[0mpredicted\u001b[0m\u001b[1;33m)\u001b[0m\u001b[1;33m\u001b[0m\u001b[0m\n",
      "\u001b[1;32mc:\\python27\\lib\\site-packages\\sklearn\\cross_validation.pyc\u001b[0m in \u001b[0;36mcross_val_predict\u001b[1;34m(estimator, X, y, cv, n_jobs, verbose, fit_params, pre_dispatch)\u001b[0m\n\u001b[0;32m   1364\u001b[0m     \u001b[0mX\u001b[0m\u001b[1;33m,\u001b[0m \u001b[0my\u001b[0m \u001b[1;33m=\u001b[0m \u001b[0mindexable\u001b[0m\u001b[1;33m(\u001b[0m\u001b[0mX\u001b[0m\u001b[1;33m,\u001b[0m \u001b[0my\u001b[0m\u001b[1;33m)\u001b[0m\u001b[1;33m\u001b[0m\u001b[0m\n\u001b[0;32m   1365\u001b[0m \u001b[1;33m\u001b[0m\u001b[0m\n\u001b[1;32m-> 1366\u001b[1;33m     \u001b[0mcv\u001b[0m \u001b[1;33m=\u001b[0m \u001b[0mcheck_cv\u001b[0m\u001b[1;33m(\u001b[0m\u001b[0mcv\u001b[0m\u001b[1;33m,\u001b[0m \u001b[0mX\u001b[0m\u001b[1;33m,\u001b[0m \u001b[0my\u001b[0m\u001b[1;33m,\u001b[0m \u001b[0mclassifier\u001b[0m\u001b[1;33m=\u001b[0m\u001b[0mis_classifier\u001b[0m\u001b[1;33m(\u001b[0m\u001b[0mestimator\u001b[0m\u001b[1;33m)\u001b[0m\u001b[1;33m)\u001b[0m\u001b[1;33m\u001b[0m\u001b[0m\n\u001b[0m\u001b[0;32m   1367\u001b[0m     \u001b[1;31m# We clone the estimator to make sure that all the folds are\u001b[0m\u001b[1;33m\u001b[0m\u001b[1;33m\u001b[0m\u001b[0m\n\u001b[0;32m   1368\u001b[0m     \u001b[1;31m# independent, and that it is pickle-able.\u001b[0m\u001b[1;33m\u001b[0m\u001b[1;33m\u001b[0m\u001b[0m\n",
      "\u001b[1;32mc:\\python27\\lib\\site-packages\\sklearn\\cross_validation.pyc\u001b[0m in \u001b[0;36mcheck_cv\u001b[1;34m(cv, X, y, classifier)\u001b[0m\n\u001b[0;32m   1821\u001b[0m         \u001b[1;32mif\u001b[0m \u001b[0mclassifier\u001b[0m\u001b[1;33m:\u001b[0m\u001b[1;33m\u001b[0m\u001b[0m\n\u001b[0;32m   1822\u001b[0m             \u001b[1;32mif\u001b[0m \u001b[0mtype_of_target\u001b[0m\u001b[1;33m(\u001b[0m\u001b[0my\u001b[0m\u001b[1;33m)\u001b[0m \u001b[1;32min\u001b[0m \u001b[1;33m[\u001b[0m\u001b[1;34m'binary'\u001b[0m\u001b[1;33m,\u001b[0m \u001b[1;34m'multiclass'\u001b[0m\u001b[1;33m]\u001b[0m\u001b[1;33m:\u001b[0m\u001b[1;33m\u001b[0m\u001b[0m\n\u001b[1;32m-> 1823\u001b[1;33m                 \u001b[0mcv\u001b[0m \u001b[1;33m=\u001b[0m \u001b[0mStratifiedKFold\u001b[0m\u001b[1;33m(\u001b[0m\u001b[0my\u001b[0m\u001b[1;33m,\u001b[0m \u001b[0mcv\u001b[0m\u001b[1;33m)\u001b[0m\u001b[1;33m\u001b[0m\u001b[0m\n\u001b[0m\u001b[0;32m   1824\u001b[0m             \u001b[1;32melse\u001b[0m\u001b[1;33m:\u001b[0m\u001b[1;33m\u001b[0m\u001b[0m\n\u001b[0;32m   1825\u001b[0m                 \u001b[0mcv\u001b[0m \u001b[1;33m=\u001b[0m \u001b[0mKFold\u001b[0m\u001b[1;33m(\u001b[0m\u001b[0m_num_samples\u001b[0m\u001b[1;33m(\u001b[0m\u001b[0my\u001b[0m\u001b[1;33m)\u001b[0m\u001b[1;33m,\u001b[0m \u001b[0mcv\u001b[0m\u001b[1;33m)\u001b[0m\u001b[1;33m\u001b[0m\u001b[0m\n",
      "\u001b[1;32mc:\\python27\\lib\\site-packages\\sklearn\\cross_validation.pyc\u001b[0m in \u001b[0;36m__init__\u001b[1;34m(self, y, n_folds, shuffle, random_state)\u001b[0m\n\u001b[0;32m    567\u001b[0m         \u001b[1;32mfor\u001b[0m \u001b[0mtest_fold_idx\u001b[0m\u001b[1;33m,\u001b[0m \u001b[0mper_label_splits\u001b[0m \u001b[1;32min\u001b[0m \u001b[0menumerate\u001b[0m\u001b[1;33m(\u001b[0m\u001b[0mzip\u001b[0m\u001b[1;33m(\u001b[0m\u001b[1;33m*\u001b[0m\u001b[0mper_label_cvs\u001b[0m\u001b[1;33m)\u001b[0m\u001b[1;33m)\u001b[0m\u001b[1;33m:\u001b[0m\u001b[1;33m\u001b[0m\u001b[0m\n\u001b[0;32m    568\u001b[0m             \u001b[1;32mfor\u001b[0m \u001b[0mlabel\u001b[0m\u001b[1;33m,\u001b[0m \u001b[1;33m(\u001b[0m\u001b[0m_\u001b[0m\u001b[1;33m,\u001b[0m \u001b[0mtest_split\u001b[0m\u001b[1;33m)\u001b[0m \u001b[1;32min\u001b[0m \u001b[0mzip\u001b[0m\u001b[1;33m(\u001b[0m\u001b[0munique_labels\u001b[0m\u001b[1;33m,\u001b[0m \u001b[0mper_label_splits\u001b[0m\u001b[1;33m)\u001b[0m\u001b[1;33m:\u001b[0m\u001b[1;33m\u001b[0m\u001b[0m\n\u001b[1;32m--> 569\u001b[1;33m                 \u001b[0mlabel_test_folds\u001b[0m \u001b[1;33m=\u001b[0m \u001b[0mtest_folds\u001b[0m\u001b[1;33m[\u001b[0m\u001b[0my\u001b[0m \u001b[1;33m==\u001b[0m \u001b[0mlabel\u001b[0m\u001b[1;33m]\u001b[0m\u001b[1;33m\u001b[0m\u001b[0m\n\u001b[0m\u001b[0;32m    570\u001b[0m                 \u001b[1;31m# the test split can be too big because we used\u001b[0m\u001b[1;33m\u001b[0m\u001b[1;33m\u001b[0m\u001b[0m\n\u001b[0;32m    571\u001b[0m                 \u001b[1;31m# KFold(max(c, self.n_folds), self.n_folds) instead of\u001b[0m\u001b[1;33m\u001b[0m\u001b[1;33m\u001b[0m\u001b[0m\n",
      "\u001b[1;31mIndexError\u001b[0m: too many indices for array"
     ]
    }
   ],
   "source": [
    "from sklearn import metrics, cross_validation\n",
    "from sklearn.linear_model import LogisticRegression\n",
    "\n",
    "\n",
    "\n",
    "logreg=LogisticRegression()\n",
    "\n",
    "predicted = cross_validation.cross_val_predict(logreg, train_x1, train_y1, cv=10)\n",
    "scores = cross_validation.cross_val_score(logreg, train_x1, train_y1, cv=10)\n",
    "print metrics.classification_report(train_y1, predicted) \n",
    "print(metrics.accuracy_score(train_y1, predicted))\n",
    "\n",
    "\n",
    "print('average score: {}'.format(scores.mean()))"
   ]
  },
  {
   "cell_type": "code",
   "execution_count": null,
   "metadata": {
    "collapsed": true
   },
   "outputs": [],
   "source": []
  }
 ],
 "metadata": {
  "kernelspec": {
   "display_name": "Python 2",
   "language": "python",
   "name": "python2"
  },
  "language_info": {
   "codemirror_mode": {
    "name": "ipython",
    "version": 2
   },
   "file_extension": ".py",
   "mimetype": "text/x-python",
   "name": "python",
   "nbconvert_exporter": "python",
   "pygments_lexer": "ipython2",
   "version": "2.7.13"
  }
 },
 "nbformat": 4,
 "nbformat_minor": 2
}
